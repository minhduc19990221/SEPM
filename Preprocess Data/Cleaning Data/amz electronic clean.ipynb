{
 "cells": [
  {
   "cell_type": "code",
   "execution_count": 1,
   "metadata": {},
   "outputs": [],
   "source": [
    "import pandas as pd\n",
    "pd.options.mode.chained_assignment = None\n",
    "amz= pd.read_csv('DatafinitiElectronicsProductsPricingData.csv')"
   ]
  },
  {
   "cell_type": "code",
   "execution_count": 2,
   "metadata": {},
   "outputs": [
    {
     "name": "stdout",
     "output_type": "stream",
     "text": [
      "<class 'pandas.core.frame.DataFrame'>\n",
      "RangeIndex: 14592 entries, 0 to 14591\n",
      "Data columns (total 31 columns):\n",
      " #   Column               Non-Null Count  Dtype  \n",
      "---  ------               --------------  -----  \n",
      " 0   id                   14592 non-null  object \n",
      " 1   prices.amountMax     14592 non-null  float64\n",
      " 2   prices.amountMin     14592 non-null  float64\n",
      " 3   prices.availability  12667 non-null  object \n",
      " 4   prices.condition     13189 non-null  object \n",
      " 5   prices.currency      14592 non-null  object \n",
      " 6   prices.dateSeen      14592 non-null  object \n",
      " 7   prices.isSale        14592 non-null  bool   \n",
      " 8   prices.merchant      13820 non-null  object \n",
      " 9   prices.shipping      8793 non-null   object \n",
      " 10  prices.sourceURLs    14592 non-null  object \n",
      " 11  asins                14592 non-null  object \n",
      " 12  brand                14592 non-null  object \n",
      " 13  categories           14592 non-null  object \n",
      " 14  dateAdded            14592 non-null  object \n",
      " 15  dateUpdated          14592 non-null  object \n",
      " 16  ean                  4208 non-null   object \n",
      " 17  imageURLs            14592 non-null  object \n",
      " 18  keys                 14592 non-null  object \n",
      " 19  manufacturer         7618 non-null   object \n",
      " 20  manufacturerNumber   14592 non-null  object \n",
      " 21  name                 14592 non-null  object \n",
      " 22  primaryCategories    14592 non-null  object \n",
      " 23  sourceURLs           14592 non-null  object \n",
      " 24  upc                  14592 non-null  object \n",
      " 25  weight               14592 non-null  object \n",
      " 26  Unnamed: 26          39 non-null     object \n",
      " 27  Unnamed: 27          18 non-null     object \n",
      " 28  Unnamed: 28          6 non-null      float64\n",
      " 29  Unnamed: 29          12 non-null     object \n",
      " 30  Unnamed: 30          6 non-null      object \n",
      "dtypes: bool(1), float64(3), object(27)\n",
      "memory usage: 3.4+ MB\n"
     ]
    }
   ],
   "source": [
    "amz.info()"
   ]
  },
  {
   "cell_type": "code",
   "execution_count": 3,
   "metadata": {},
   "outputs": [
    {
     "data": {
      "text/plain": [
       "0        False\n",
       "1        False\n",
       "2        False\n",
       "3        False\n",
       "4        False\n",
       "         ...  \n",
       "14587    False\n",
       "14588    False\n",
       "14589    False\n",
       "14590    False\n",
       "14591    False\n",
       "Length: 14592, dtype: bool"
      ]
     },
     "execution_count": 3,
     "metadata": {},
     "output_type": "execute_result"
    }
   ],
   "source": [
    "amz.duplicated(subset=None, keep='first')"
   ]
  },
  {
   "cell_type": "markdown",
   "metadata": {},
   "source": [
    "###  Clean\n",
    "    1. product_name:\n",
    "    2. price: \n",
    "    3. retailer:\n",
    "    4. platform:\n",
    "    5. storeUrl:\n",
    "    6. imageUrl:\n",
    "    7. category:"
   ]
  },
  {
   "cell_type": "code",
   "execution_count": 4,
   "metadata": {},
   "outputs": [
    {
     "data": {
      "text/plain": [
       "(13820, 7)"
      ]
     },
     "execution_count": 4,
     "metadata": {},
     "output_type": "execute_result"
    }
   ],
   "source": [
    "fixed=amz[['name','prices.amountMin','brand','prices.merchant','sourceURLs','imageURLs','categories']]\n",
    "fixed=fixed.dropna()\n",
    "fixed.shape"
   ]
  },
  {
   "cell_type": "code",
   "execution_count": 5,
   "metadata": {},
   "outputs": [],
   "source": [
    "data=fixed[['prices.amountMin','brand','prices.merchant']]"
   ]
  },
  {
   "cell_type": "code",
   "execution_count": 6,
   "metadata": {},
   "outputs": [],
   "source": [
    "index=0\n",
    "for row in fixed['categories']:\n",
    "    newurl = row.split(',')[0].split('&')[0]\n",
    "    fixed['categories'].iloc[index]=newurl\n",
    "    index+=1  \n",
    "\n",
    "\n",
    "fixed['categories']\n",
    "data['category']=fixed['categories']\n"
   ]
  },
  {
   "cell_type": "code",
   "execution_count": 7,
   "metadata": {},
   "outputs": [
    {
     "data": {
      "text/plain": [
       "0         Audio \n",
       "1        Stereos\n",
       "2        Stereos\n",
       "3        Stereos\n",
       "4        Stereos\n",
       "          ...   \n",
       "14585       TVs \n",
       "14586       TVs \n",
       "14588       TVs \n",
       "14589       TVs \n",
       "14591       TVs \n",
       "Name: category, Length: 13820, dtype: object"
      ]
     },
     "execution_count": 7,
     "metadata": {},
     "output_type": "execute_result"
    }
   ],
   "source": [
    "data['category']"
   ]
  },
  {
   "cell_type": "code",
   "execution_count": 8,
   "metadata": {},
   "outputs": [],
   "source": [
    "index=0\n",
    "for row in fixed['imageURLs']:\n",
    "    newurl = row.split(',')[0]\n",
    "    fixed['imageURLs'].iloc[index]=newurl\n",
    "    index+=1  \n",
    "\n",
    "\n",
    "fixed['imageURLs']\n",
    "data['image']=fixed['imageURLs']\n"
   ]
  },
  {
   "cell_type": "code",
   "execution_count": 9,
   "metadata": {},
   "outputs": [
    {
     "data": {
      "text/plain": [
       "0        https://images-na.ssl-images-amazon.com/images...\n",
       "1        https://images-na.ssl-images-amazon.com/images...\n",
       "2        https://images-na.ssl-images-amazon.com/images...\n",
       "3        https://images-na.ssl-images-amazon.com/images...\n",
       "4        https://images-na.ssl-images-amazon.com/images...\n",
       "                               ...                        \n",
       "14585    http://pisces.bbystatic.com/image2/BestBuy_US/...\n",
       "14586    http://pisces.bbystatic.com/image2/BestBuy_US/...\n",
       "14588    http://pisces.bbystatic.com/image2/BestBuy_US/...\n",
       "14589    http://pisces.bbystatic.com/image2/BestBuy_US/...\n",
       "14591    http://pisces.bbystatic.com/image2/BestBuy_US/...\n",
       "Name: image, Length: 13820, dtype: object"
      ]
     },
     "execution_count": 9,
     "metadata": {},
     "output_type": "execute_result"
    }
   ],
   "source": [
    "data['image']"
   ]
  },
  {
   "cell_type": "code",
   "execution_count": 10,
   "metadata": {},
   "outputs": [],
   "source": [
    "index=0\n",
    "for row in fixed['sourceURLs']:\n",
    "    newurl = row.split(',')[0]\n",
    "    fixed['sourceURLs'].iloc[index]=newurl\n",
    "    index+=1  \n",
    "\n",
    "\n",
    "fixed['sourceURLs']\n",
    "data['product_url']=fixed['sourceURLs']"
   ]
  },
  {
   "cell_type": "code",
   "execution_count": 11,
   "metadata": {},
   "outputs": [
    {
     "data": {
      "text/plain": [
       "0        https://www.amazon.com/Sanus-VLF410B1-10-Inch-...\n",
       "1        http://reviews.bestbuy.com/3545/4784804/review...\n",
       "2        http://reviews.bestbuy.com/3545/4784804/review...\n",
       "3        http://reviews.bestbuy.com/3545/4784804/review...\n",
       "4        http://reviews.bestbuy.com/3545/4784804/review...\n",
       "                               ...                        \n",
       "14585     https://www.walmart.com/reviews/product/44184075\n",
       "14586     https://www.walmart.com/reviews/product/44184075\n",
       "14588     https://www.walmart.com/reviews/product/44184075\n",
       "14589     https://www.walmart.com/reviews/product/44184075\n",
       "14591     https://www.walmart.com/reviews/product/44184075\n",
       "Name: product_url, Length: 13820, dtype: object"
      ]
     },
     "execution_count": 11,
     "metadata": {},
     "output_type": "execute_result"
    }
   ],
   "source": [
    "data['product_url']"
   ]
  },
  {
   "cell_type": "code",
   "execution_count": 12,
   "metadata": {},
   "outputs": [],
   "source": [
    "index=0\n",
    "for row in fixed['name']:\n",
    "    newurl = row.split(',')[0].split(\"'\")[0].split('\"')[0]\n",
    "    fixed['name'].iloc[index]=newurl\n",
    "    index+=1  \n",
    "\n",
    "\n",
    "fixed['name']\n",
    "data['product_name']=fixed['name']"
   ]
  },
  {
   "cell_type": "code",
   "execution_count": 13,
   "metadata": {},
   "outputs": [
    {
     "data": {
      "text/html": [
       "<div>\n",
       "<style scoped>\n",
       "    .dataframe tbody tr th:only-of-type {\n",
       "        vertical-align: middle;\n",
       "    }\n",
       "\n",
       "    .dataframe tbody tr th {\n",
       "        vertical-align: top;\n",
       "    }\n",
       "\n",
       "    .dataframe thead th {\n",
       "        text-align: right;\n",
       "    }\n",
       "</style>\n",
       "<table border=\"1\" class=\"dataframe\">\n",
       "  <thead>\n",
       "    <tr style=\"text-align: right;\">\n",
       "      <th></th>\n",
       "      <th>prices.amountMin</th>\n",
       "      <th>brand</th>\n",
       "      <th>prices.merchant</th>\n",
       "      <th>category</th>\n",
       "      <th>image</th>\n",
       "      <th>product_url</th>\n",
       "      <th>product_name</th>\n",
       "    </tr>\n",
       "  </thead>\n",
       "  <tbody>\n",
       "    <tr>\n",
       "      <th>0</th>\n",
       "      <td>104.99</td>\n",
       "      <td>Sanus</td>\n",
       "      <td>Bestbuy.com</td>\n",
       "      <td>Audio</td>\n",
       "      <td>https://images-na.ssl-images-amazon.com/images...</td>\n",
       "      <td>https://www.amazon.com/Sanus-VLF410B1-10-Inch-...</td>\n",
       "      <td>Sanus VLF410B1 10-Inch Super Slim Full-Motion ...</td>\n",
       "    </tr>\n",
       "    <tr>\n",
       "      <th>1</th>\n",
       "      <td>64.99</td>\n",
       "      <td>Boytone</td>\n",
       "      <td>Walmart.com</td>\n",
       "      <td>Stereos</td>\n",
       "      <td>https://images-na.ssl-images-amazon.com/images...</td>\n",
       "      <td>http://reviews.bestbuy.com/3545/4784804/review...</td>\n",
       "      <td>Boytone - 2500W 2.1-Ch. Home Theater System - ...</td>\n",
       "    </tr>\n",
       "    <tr>\n",
       "      <th>2</th>\n",
       "      <td>69.00</td>\n",
       "      <td>Boytone</td>\n",
       "      <td>Walmart.com</td>\n",
       "      <td>Stereos</td>\n",
       "      <td>https://images-na.ssl-images-amazon.com/images...</td>\n",
       "      <td>http://reviews.bestbuy.com/3545/4784804/review...</td>\n",
       "      <td>Boytone - 2500W 2.1-Ch. Home Theater System - ...</td>\n",
       "    </tr>\n",
       "    <tr>\n",
       "      <th>3</th>\n",
       "      <td>69.99</td>\n",
       "      <td>Boytone</td>\n",
       "      <td>Bestbuy.com</td>\n",
       "      <td>Stereos</td>\n",
       "      <td>https://images-na.ssl-images-amazon.com/images...</td>\n",
       "      <td>http://reviews.bestbuy.com/3545/4784804/review...</td>\n",
       "      <td>Boytone - 2500W 2.1-Ch. Home Theater System - ...</td>\n",
       "    </tr>\n",
       "    <tr>\n",
       "      <th>4</th>\n",
       "      <td>66.99</td>\n",
       "      <td>Boytone</td>\n",
       "      <td>Bestbuy.com</td>\n",
       "      <td>Stereos</td>\n",
       "      <td>https://images-na.ssl-images-amazon.com/images...</td>\n",
       "      <td>http://reviews.bestbuy.com/3545/4784804/review...</td>\n",
       "      <td>Boytone - 2500W 2.1-Ch. Home Theater System - ...</td>\n",
       "    </tr>\n",
       "    <tr>\n",
       "      <th>...</th>\n",
       "      <td>...</td>\n",
       "      <td>...</td>\n",
       "      <td>...</td>\n",
       "      <td>...</td>\n",
       "      <td>...</td>\n",
       "      <td>...</td>\n",
       "      <td>...</td>\n",
       "    </tr>\n",
       "    <tr>\n",
       "      <th>14585</th>\n",
       "      <td>69.55</td>\n",
       "      <td>naxa</td>\n",
       "      <td>Beach Audio Inc - Walmart.com</td>\n",
       "      <td>TVs</td>\n",
       "      <td>http://pisces.bbystatic.com/image2/BestBuy_US/...</td>\n",
       "      <td>https://www.walmart.com/reviews/product/44184075</td>\n",
       "      <td>naxa - 2.1-Channel Soundbar with 50-Watt Digit...</td>\n",
       "    </tr>\n",
       "    <tr>\n",
       "      <th>14586</th>\n",
       "      <td>58.99</td>\n",
       "      <td>naxa</td>\n",
       "      <td>Walmart.com</td>\n",
       "      <td>TVs</td>\n",
       "      <td>http://pisces.bbystatic.com/image2/BestBuy_US/...</td>\n",
       "      <td>https://www.walmart.com/reviews/product/44184075</td>\n",
       "      <td>naxa - 2.1-Channel Soundbar with 50-Watt Digit...</td>\n",
       "    </tr>\n",
       "    <tr>\n",
       "      <th>14588</th>\n",
       "      <td>58.99</td>\n",
       "      <td>naxa</td>\n",
       "      <td>Bestbuy.com</td>\n",
       "      <td>TVs</td>\n",
       "      <td>http://pisces.bbystatic.com/image2/BestBuy_US/...</td>\n",
       "      <td>https://www.walmart.com/reviews/product/44184075</td>\n",
       "      <td>naxa - 2.1-Channel Soundbar with 50-Watt Digit...</td>\n",
       "    </tr>\n",
       "    <tr>\n",
       "      <th>14589</th>\n",
       "      <td>58.49</td>\n",
       "      <td>naxa</td>\n",
       "      <td>Walmart.com</td>\n",
       "      <td>TVs</td>\n",
       "      <td>http://pisces.bbystatic.com/image2/BestBuy_US/...</td>\n",
       "      <td>https://www.walmart.com/reviews/product/44184075</td>\n",
       "      <td>naxa - 2.1-Channel Soundbar with 50-Watt Digit...</td>\n",
       "    </tr>\n",
       "    <tr>\n",
       "      <th>14591</th>\n",
       "      <td>71.95</td>\n",
       "      <td>naxa</td>\n",
       "      <td>Beach Audio Inc - Walmart.com</td>\n",
       "      <td>TVs</td>\n",
       "      <td>http://pisces.bbystatic.com/image2/BestBuy_US/...</td>\n",
       "      <td>https://www.walmart.com/reviews/product/44184075</td>\n",
       "      <td>naxa - 2.1-Channel Soundbar with 50-Watt Digit...</td>\n",
       "    </tr>\n",
       "  </tbody>\n",
       "</table>\n",
       "<p>13820 rows × 7 columns</p>\n",
       "</div>"
      ],
      "text/plain": [
       "       prices.amountMin    brand                prices.merchant category  \\\n",
       "0                104.99    Sanus                    Bestbuy.com   Audio    \n",
       "1                 64.99  Boytone                    Walmart.com  Stereos   \n",
       "2                 69.00  Boytone                    Walmart.com  Stereos   \n",
       "3                 69.99  Boytone                    Bestbuy.com  Stereos   \n",
       "4                 66.99  Boytone                    Bestbuy.com  Stereos   \n",
       "...                 ...      ...                            ...      ...   \n",
       "14585             69.55     naxa  Beach Audio Inc - Walmart.com     TVs    \n",
       "14586             58.99     naxa                    Walmart.com     TVs    \n",
       "14588             58.99     naxa                    Bestbuy.com     TVs    \n",
       "14589             58.49     naxa                    Walmart.com     TVs    \n",
       "14591             71.95     naxa  Beach Audio Inc - Walmart.com     TVs    \n",
       "\n",
       "                                                   image  \\\n",
       "0      https://images-na.ssl-images-amazon.com/images...   \n",
       "1      https://images-na.ssl-images-amazon.com/images...   \n",
       "2      https://images-na.ssl-images-amazon.com/images...   \n",
       "3      https://images-na.ssl-images-amazon.com/images...   \n",
       "4      https://images-na.ssl-images-amazon.com/images...   \n",
       "...                                                  ...   \n",
       "14585  http://pisces.bbystatic.com/image2/BestBuy_US/...   \n",
       "14586  http://pisces.bbystatic.com/image2/BestBuy_US/...   \n",
       "14588  http://pisces.bbystatic.com/image2/BestBuy_US/...   \n",
       "14589  http://pisces.bbystatic.com/image2/BestBuy_US/...   \n",
       "14591  http://pisces.bbystatic.com/image2/BestBuy_US/...   \n",
       "\n",
       "                                             product_url  \\\n",
       "0      https://www.amazon.com/Sanus-VLF410B1-10-Inch-...   \n",
       "1      http://reviews.bestbuy.com/3545/4784804/review...   \n",
       "2      http://reviews.bestbuy.com/3545/4784804/review...   \n",
       "3      http://reviews.bestbuy.com/3545/4784804/review...   \n",
       "4      http://reviews.bestbuy.com/3545/4784804/review...   \n",
       "...                                                  ...   \n",
       "14585   https://www.walmart.com/reviews/product/44184075   \n",
       "14586   https://www.walmart.com/reviews/product/44184075   \n",
       "14588   https://www.walmart.com/reviews/product/44184075   \n",
       "14589   https://www.walmart.com/reviews/product/44184075   \n",
       "14591   https://www.walmart.com/reviews/product/44184075   \n",
       "\n",
       "                                            product_name  \n",
       "0      Sanus VLF410B1 10-Inch Super Slim Full-Motion ...  \n",
       "1      Boytone - 2500W 2.1-Ch. Home Theater System - ...  \n",
       "2      Boytone - 2500W 2.1-Ch. Home Theater System - ...  \n",
       "3      Boytone - 2500W 2.1-Ch. Home Theater System - ...  \n",
       "4      Boytone - 2500W 2.1-Ch. Home Theater System - ...  \n",
       "...                                                  ...  \n",
       "14585  naxa - 2.1-Channel Soundbar with 50-Watt Digit...  \n",
       "14586  naxa - 2.1-Channel Soundbar with 50-Watt Digit...  \n",
       "14588  naxa - 2.1-Channel Soundbar with 50-Watt Digit...  \n",
       "14589  naxa - 2.1-Channel Soundbar with 50-Watt Digit...  \n",
       "14591  naxa - 2.1-Channel Soundbar with 50-Watt Digit...  \n",
       "\n",
       "[13820 rows x 7 columns]"
      ]
     },
     "execution_count": 13,
     "metadata": {},
     "output_type": "execute_result"
    }
   ],
   "source": [
    "data"
   ]
  },
  {
   "cell_type": "code",
   "execution_count": 14,
   "metadata": {},
   "outputs": [],
   "source": [
    "data=data.drop_duplicates(keep='first')"
   ]
  },
  {
   "cell_type": "code",
   "execution_count": 15,
   "metadata": {},
   "outputs": [
    {
     "data": {
      "text/plain": [
       "(13170, 8)"
      ]
     },
     "execution_count": 15,
     "metadata": {},
     "output_type": "execute_result"
    }
   ],
   "source": [
    "data.reset_index().shape"
   ]
  },
  {
   "cell_type": "code",
   "execution_count": 16,
   "metadata": {},
   "outputs": [],
   "source": [
    "data.to_csv('fixed_amz_electronic.csv')"
   ]
  },
  {
   "cell_type": "code",
   "execution_count": null,
   "metadata": {},
   "outputs": [],
   "source": []
  }
 ],
 "metadata": {
  "kernelspec": {
   "display_name": "Python 3",
   "language": "python",
   "name": "python3"
  },
  "language_info": {
   "codemirror_mode": {
    "name": "ipython",
    "version": 3
   },
   "file_extension": ".py",
   "mimetype": "text/x-python",
   "name": "python",
   "nbconvert_exporter": "python",
   "pygments_lexer": "ipython3",
   "version": "3.7.6"
  }
 },
 "nbformat": 4,
 "nbformat_minor": 4
}
